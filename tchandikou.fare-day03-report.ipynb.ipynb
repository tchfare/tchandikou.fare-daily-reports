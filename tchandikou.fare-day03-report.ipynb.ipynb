{
 "cells": [
  {
   "cell_type": "markdown",
   "id": "7e767a1b-5d75-4d5c-bef5-b5e6b7983786",
   "metadata": {},
   "source": [
    "# Strings nd files"
   ]
  },
  {
   "cell_type": "code",
   "execution_count": 2,
   "id": "3e5134c5-0d29-4f08-843f-7d7cc73f1dc8",
   "metadata": {},
   "outputs": [],
   "source": [
    "string_1 = \"Will you be t the meeting tonigth ?\"\n",
    "\n",
    "string_2 = '\"Yes\", he replies.'"
   ]
  },
  {
   "cell_type": "code",
   "execution_count": 3,
   "id": "293ff5c9-a983-4381-841c-805fb67cb1a3",
   "metadata": {},
   "outputs": [
    {
     "name": "stdout",
     "output_type": "stream",
     "text": [
      "Will you be t the meeting tonigth ?\n"
     ]
    }
   ],
   "source": [
    "print(string_1)"
   ]
  },
  {
   "cell_type": "code",
   "execution_count": 4,
   "id": "63be6293-93cc-4dc7-9ff3-56b0941181bd",
   "metadata": {},
   "outputs": [
    {
     "name": "stdout",
     "output_type": "stream",
     "text": [
      "\"Yes\", he replies.\n"
     ]
    }
   ],
   "source": [
    "print(string_2)"
   ]
  },
  {
   "cell_type": "markdown",
   "id": "3547ebd8-e417-4e29-acde-0d925635c5f5",
   "metadata": {},
   "source": [
    "# Indexing"
   ]
  },
  {
   "cell_type": "code",
   "execution_count": 5,
   "id": "9198df94-6cfb-4bd8-b16b-004ae156d0b4",
   "metadata": {},
   "outputs": [
    {
     "data": {
      "text/plain": [
       "'W'"
      ]
     },
     "execution_count": 5,
     "metadata": {},
     "output_type": "execute_result"
    }
   ],
   "source": [
    "string_1[0]"
   ]
  },
  {
   "cell_type": "code",
   "execution_count": 6,
   "id": "e5048c66-754d-46ff-b559-39f87aa5f427",
   "metadata": {},
   "outputs": [
    {
     "data": {
      "text/plain": [
       "'l'"
      ]
     },
     "execution_count": 6,
     "metadata": {},
     "output_type": "execute_result"
    }
   ],
   "source": [
    "string_1[2]"
   ]
  },
  {
   "cell_type": "code",
   "execution_count": 7,
   "id": "86b4c037-ced2-4672-b05b-70f8e3037be1",
   "metadata": {},
   "outputs": [
    {
     "name": "stdout",
     "output_type": "stream",
     "text": [
      "Will you be t the meeting tonigth ?\n",
      "The second character of my string_1 is i\n"
     ]
    }
   ],
   "source": [
    "print(string_1)\n",
    "print(\"The second character of my string_1 is\", string_1[1])"
   ]
  },
  {
   "cell_type": "code",
   "execution_count": 12,
   "id": "119555a8-32c7-4c6e-826d-a344740faa02",
   "metadata": {},
   "outputs": [
    {
     "name": "stdout",
     "output_type": "stream",
     "text": [
      "Will you be t the meeting tonigth ?\n",
      "The last character of my string_1 is :  ?\n"
     ]
    }
   ],
   "source": [
    "print(string_1)\n",
    "print(\"The last character of my string_1 is : \", string_1[-1])"
   ]
  },
  {
   "cell_type": "markdown",
   "id": "29392e31-d6b5-4074-af37-9cddef885e6f",
   "metadata": {},
   "source": [
    "# Slicing\n",
    "        string[start:stop:step]"
   ]
  },
  {
   "cell_type": "code",
   "execution_count": 17,
   "id": "76d14219-a35b-4482-8b27-e52c77528285",
   "metadata": {},
   "outputs": [
    {
     "name": "stdout",
     "output_type": "stream",
     "text": [
      "Will you be t the meeting tonigth ?\n"
     ]
    },
    {
     "data": {
      "text/plain": [
       "'l o'"
      ]
     },
     "execution_count": 17,
     "metadata": {},
     "output_type": "execute_result"
    }
   ],
   "source": [
    "print(string_1)\n",
    "string_1[2:8:2]"
   ]
  },
  {
   "cell_type": "code",
   "execution_count": 35,
   "id": "4a1ec230-9bfa-4e2b-82cf-dd55716f4511",
   "metadata": {},
   "outputs": [
    {
     "data": {
      "text/plain": [
       "'hjfnekjnk'"
      ]
     },
     "execution_count": 35,
     "metadata": {},
     "output_type": "execute_result"
    }
   ],
   "source": [
    "string_3 = 'nekhjfnekjnke'\n",
    "string_3[3:-1]"
   ]
  },
  {
   "cell_type": "code",
   "execution_count": 36,
   "id": "66004b65-592d-4899-b73e-e66ad17aa4a0",
   "metadata": {},
   "outputs": [
    {
     "data": {
      "text/plain": [
       "18"
      ]
     },
     "execution_count": 36,
     "metadata": {},
     "output_type": "execute_result"
    }
   ],
   "source": [
    "len(string_2)"
   ]
  },
  {
   "cell_type": "markdown",
   "id": "cca3d6df-8b21-4c00-b66a-1c804fc5f75f",
   "metadata": {},
   "source": [
    "# Concatination"
   ]
  },
  {
   "cell_type": "code",
   "execution_count": 40,
   "id": "db3932ab-ef30-4903-a20e-286b84902f01",
   "metadata": {},
   "outputs": [
    {
     "name": "stdout",
     "output_type": "stream",
     "text": [
      "Hello, World\n",
      "WorldHello, \n"
     ]
    }
   ],
   "source": [
    "my_var1 = \"Hello, \"\n",
    "\n",
    "my_var2 = 'World'\n",
    "\n",
    "concat = my_var1 + my_var2\n",
    "\n",
    "\n",
    "concat1 = my_var2 + my_var1\n",
    "\n",
    "print(concat)\n",
    "print(concat1)"
   ]
  },
  {
   "cell_type": "code",
   "execution_count": 47,
   "id": "63552b92-941d-484c-932f-e9ce6b9fdf72",
   "metadata": {},
   "outputs": [
    {
     "ename": "TypeError",
     "evalue": "can't multiply sequence by non-int of type 'float'",
     "output_type": "error",
     "traceback": [
      "\u001b[0;31m---------------------------------------------------------------------------\u001b[0m",
      "\u001b[0;31mTypeError\u001b[0m                                 Traceback (most recent call last)",
      "Cell \u001b[0;32mIn[47], line 1\u001b[0m\n\u001b[0;32m----> 1\u001b[0m \u001b[38;5;28mprint\u001b[39m(\u001b[38;5;241;43m2.\u001b[39;49m\u001b[38;5;241;43m*\u001b[39;49m\u001b[43mmy_var2\u001b[49m)\n",
      "\u001b[0;31mTypeError\u001b[0m: can't multiply sequence by non-int of type 'float'"
     ]
    }
   ],
   "source": [
    "print(2.*my_var2)"
   ]
  },
  {
   "cell_type": "markdown",
   "id": "c1b36432-3105-4cd2-8fdc-96f710a887aa",
   "metadata": {},
   "source": [
    "## Practice"
   ]
  },
  {
   "cell_type": "code",
   "execution_count": 145,
   "id": "1df8b702-17e0-4b7b-ac50-9753275d4fa6",
   "metadata": {},
   "outputs": [
    {
     "data": {
      "text/plain": [
       "\u001b[0;31mDocstring:\u001b[0m\n",
       "S.rindex(sub[, start[, end]]) -> int\n",
       "\n",
       "Return the highest index in S where substring sub is found,\n",
       "such that sub is contained within S[start:end].  Optional\n",
       "arguments start and end are interpreted as in slice notation.\n",
       "\n",
       "Raises ValueError when the substring is not found.\n",
       "\u001b[0;31mType:\u001b[0m      builtin_function_or_method"
      ]
     },
     "metadata": {},
     "output_type": "display_data"
    }
   ],
   "source": [
    "p_str = \"Montevideo is the capital city of venezuela\"\n",
    "\n",
    "?p_str.rindex"
   ]
  },
  {
   "cell_type": "code",
   "execution_count": 146,
   "id": "870f8ebd-2cac-4b90-8a1f-269ef50ef068",
   "metadata": {},
   "outputs": [
    {
     "data": {
      "text/plain": [
       "2"
      ]
     },
     "execution_count": 146,
     "metadata": {},
     "output_type": "execute_result"
    }
   ],
   "source": [
    "p_str.rindex('n', 2, 8)"
   ]
  },
  {
   "cell_type": "code",
   "execution_count": 147,
   "id": "8ab029a5-c65f-46af-8fa1-cbac2081aa6f",
   "metadata": {},
   "outputs": [
    {
     "data": {
      "text/plain": [
       "43"
      ]
     },
     "execution_count": 147,
     "metadata": {},
     "output_type": "execute_result"
    }
   ],
   "source": [
    "len(p_str)"
   ]
  },
  {
   "cell_type": "code",
   "execution_count": 148,
   "id": "13296459-6d61-49e2-8318-189ab4764d29",
   "metadata": {},
   "outputs": [
    {
     "data": {
      "text/plain": [
       "\u001b[0;31mSignature:\u001b[0m \u001b[0mp_str\u001b[0m\u001b[0;34m.\u001b[0m\u001b[0mcenter\u001b[0m\u001b[0;34m(\u001b[0m\u001b[0mwidth\u001b[0m\u001b[0;34m,\u001b[0m \u001b[0mfillchar\u001b[0m\u001b[0;34m=\u001b[0m\u001b[0;34m' '\u001b[0m\u001b[0;34m,\u001b[0m \u001b[0;34m/\u001b[0m\u001b[0;34m)\u001b[0m\u001b[0;34m\u001b[0m\u001b[0;34m\u001b[0m\u001b[0m\n",
       "\u001b[0;31mDocstring:\u001b[0m\n",
       "Return a centered string of length width.\n",
       "\n",
       "Padding is done using the specified fill character (default is a space).\n",
       "\u001b[0;31mType:\u001b[0m      builtin_function_or_method"
      ]
     },
     "metadata": {},
     "output_type": "display_data"
    }
   ],
   "source": [
    "?p_str.center"
   ]
  },
  {
   "cell_type": "code",
   "execution_count": 167,
   "id": "3888daaa-8443-4cd5-ada1-03fbb203c9a8",
   "metadata": {},
   "outputs": [
    {
     "data": {
      "text/plain": [
       "'=Montevideo is the capital city of venezuela='"
      ]
     },
     "execution_count": 167,
     "metadata": {},
     "output_type": "execute_result"
    }
   ],
   "source": [
    "p_str.center(45,'=')"
   ]
  },
  {
   "cell_type": "code",
   "execution_count": 150,
   "id": "af9ed3be-139c-4940-92b8-2a49e59883a6",
   "metadata": {},
   "outputs": [
    {
     "data": {
      "text/plain": [
       "'MONTEVIDEO IS THE CAPITAL CITY OF VENEZUELA'"
      ]
     },
     "execution_count": 150,
     "metadata": {},
     "output_type": "execute_result"
    }
   ],
   "source": [
    "p_str.upper()"
   ]
  },
  {
   "cell_type": "code",
   "execution_count": 151,
   "id": "f3b20d39-766a-48f7-bfd8-0b369aa29617",
   "metadata": {},
   "outputs": [
    {
     "data": {
      "text/plain": [
       "'montevideo is the capital city of venezuela'"
      ]
     },
     "execution_count": 151,
     "metadata": {},
     "output_type": "execute_result"
    }
   ],
   "source": [
    "p_str.lower()"
   ]
  },
  {
   "cell_type": "code",
   "execution_count": 163,
   "id": "253582fa-9030-45a4-8cb4-861ebb1fa811",
   "metadata": {},
   "outputs": [
    {
     "data": {
      "text/plain": [
       "1"
      ]
     },
     "execution_count": 163,
     "metadata": {},
     "output_type": "execute_result"
    }
   ],
   "source": [
    "p_str.count('zuel')"
   ]
  },
  {
   "cell_type": "code",
   "execution_count": 172,
   "id": "8a52f143-3061-4662-bcc7-a2e511719ff9",
   "metadata": {},
   "outputs": [
    {
     "data": {
      "text/plain": [
       "'Montevideo is the capital city of venezuela'"
      ]
     },
     "execution_count": 172,
     "metadata": {},
     "output_type": "execute_result"
    }
   ],
   "source": [
    "p_str.expandtabs(5)"
   ]
  },
  {
   "cell_type": "code",
   "execution_count": 177,
   "id": "c2b92821-e1a2-460f-a5f0-cf9a8010b744",
   "metadata": {},
   "outputs": [
    {
     "name": "stdout",
     "output_type": "stream",
     "text": [
      "Day03.ipynb\t\t\t   Untitled.ipynb\n",
      "Desktop\t\t\t\t   Untitled1.ipynb\n",
      "Documents\t\t\t   Videos\n",
      "Downloads\t\t\t   install.sh\n",
      "Miniconda3-latest-Linux-x86_64.sh  install.sh.asc\n",
      "Music\t\t\t\t   miniconda3\n",
      "Pictures\t\t\t   myenv\n",
      "Public\t\t\t\t   rstudio-2023.06.1-524-amd64.deb\n",
      "R\t\t\t\t   snap\n",
      "Templates\t\t\t   testfile.txt\n"
     ]
    }
   ],
   "source": [
    "!ls"
   ]
  },
  {
   "cell_type": "code",
   "execution_count": 206,
   "id": "55dcf8b0-8df4-4473-a725-528babf52fcf",
   "metadata": {},
   "outputs": [],
   "source": [
    "# %load testfile.txt"
   ]
  },
  {
   "cell_type": "code",
   "execution_count": 207,
   "id": "73a65a42-c060-4ff6-97ca-f1d15e06944f",
   "metadata": {},
   "outputs": [],
   "source": [
    "f = open('testfile.txt', 'r')"
   ]
  },
  {
   "cell_type": "code",
   "execution_count": 208,
   "id": "45a71115-b4be-4cbe-b0d3-37525b1b1da1",
   "metadata": {},
   "outputs": [
    {
     "data": {
      "text/plain": [
       "_io.TextIOWrapper"
      ]
     },
     "execution_count": 208,
     "metadata": {},
     "output_type": "execute_result"
    }
   ],
   "source": [
    "type(f)"
   ]
  },
  {
   "cell_type": "code",
   "execution_count": 209,
   "id": "fd69df0c-efca-4565-a310-c889bea5d46a",
   "metadata": {},
   "outputs": [
    {
     "data": {
      "text/plain": [
       "<_io.TextIOWrapper name='testfile.txt' mode='r' encoding='UTF-8'>"
      ]
     },
     "execution_count": 209,
     "metadata": {},
     "output_type": "execute_result"
    }
   ],
   "source": [
    "f"
   ]
  },
  {
   "cell_type": "code",
   "execution_count": 210,
   "id": "fc27c88e-af36-4e8d-a2fe-dbabbdcb1890",
   "metadata": {},
   "outputs": [
    {
     "data": {
      "text/plain": [
       "['fghij\\n', 'aims class\\n', 'Rwanda 2025\\n', 'this is really cool\\n']"
      ]
     },
     "execution_count": 210,
     "metadata": {},
     "output_type": "execute_result"
    }
   ],
   "source": [
    "f.readlines()"
   ]
  },
  {
   "cell_type": "code",
   "execution_count": 211,
   "id": "611f4eec-75d3-4822-9759-16c74894e4f1",
   "metadata": {},
   "outputs": [
    {
     "data": {
      "text/plain": [
       "''"
      ]
     },
     "execution_count": 211,
     "metadata": {},
     "output_type": "execute_result"
    }
   ],
   "source": [
    "f.read()"
   ]
  },
  {
   "cell_type": "code",
   "execution_count": 212,
   "id": "78268168-f7ca-46a9-af10-952efb727999",
   "metadata": {},
   "outputs": [],
   "source": [
    "f.close()"
   ]
  },
  {
   "cell_type": "code",
   "execution_count": 252,
   "id": "e3e0be2d-c2f9-4971-86e2-40c1a4668900",
   "metadata": {},
   "outputs": [],
   "source": [
    "# %load testfile.txt\n",
    "THE IS THURSDA..Y"
   ]
  },
  {
   "cell_type": "code",
   "execution_count": 226,
   "id": "16b5cc9f-efc1-4ea8-9bc5-13c1a26d06e2",
   "metadata": {},
   "outputs": [],
   "source": [
    "f = open('testfile.txt', 'r')"
   ]
  },
  {
   "cell_type": "code",
   "execution_count": 227,
   "id": "0b4dba67-fd6d-47de-9edd-be0fc6807c3e",
   "metadata": {},
   "outputs": [
    {
     "data": {
      "text/plain": [
       "['THE IS THURSDAY']"
      ]
     },
     "execution_count": 227,
     "metadata": {},
     "output_type": "execute_result"
    }
   ],
   "source": [
    "f.readlines()"
   ]
  },
  {
   "cell_type": "code",
   "execution_count": 239,
   "id": "572371c9-eaa9-4d98-9656-532ce33152c3",
   "metadata": {},
   "outputs": [],
   "source": [
    "to_write_to_file = open('testfile.txt', 'w')\n",
    "to_write_to_file.write(\"THE IS THURSDA..Y\")\n",
    "to_write_to_file.close()"
   ]
  },
  {
   "cell_type": "code",
   "execution_count": 240,
   "id": "eabaa779-4165-4136-a9b0-2d442ef3cdfa",
   "metadata": {},
   "outputs": [],
   "source": [
    "# %load testfile.txt"
   ]
  },
  {
   "cell_type": "code",
   "execution_count": 241,
   "id": "eb28232a-0bae-41dd-ab95-ea6c4ed0c196",
   "metadata": {},
   "outputs": [],
   "source": [
    "to_write_to_file = open('testfile.txt', 'r')"
   ]
  },
  {
   "cell_type": "code",
   "execution_count": 245,
   "id": "46abd151-7da1-4bbd-91a5-91608bdbf2ee",
   "metadata": {},
   "outputs": [],
   "source": [
    "to_write = open('testfile2.txt', 'w')\n",
    "to_write.write(\"THE IS THURSDA..Y\")\n",
    "to_write.write(\"THE IS THURSDA1..Y\")\n",
    "to_write.write(\"THE IS THURSDA2..Y\")\n",
    "to_write.close() "
   ]
  },
  {
   "cell_type": "code",
   "execution_count": 250,
   "id": "e3fa5505-00ea-4546-9e23-df2ab5178f54",
   "metadata": {},
   "outputs": [
    {
     "data": {
      "text/plain": [
       "['THE IS THURSDA..Y']"
      ]
     },
     "execution_count": 250,
     "metadata": {},
     "output_type": "execute_result"
    }
   ],
   "source": [
    "to_write = open('testfile2.txt', 'r')\n",
    "to_write.readlines()"
   ]
  },
  {
   "cell_type": "code",
   "execution_count": 254,
   "id": "f008133b-9a93-46b0-882d-199067cef1fb",
   "metadata": {},
   "outputs": [
    {
     "data": {
      "text/plain": [
       "<_io.BufferedReader name='testfile2.txt'>"
      ]
     },
     "execution_count": 254,
     "metadata": {},
     "output_type": "execute_result"
    }
   ],
   "source": [
    "to_write."
   ]
  },
  {
   "cell_type": "code",
   "execution_count": null,
   "id": "a7b34fa6-9440-4ec4-b3de-1e1f82047133",
   "metadata": {},
   "outputs": [],
   "source": []
  }
 ],
 "metadata": {
  "kernelspec": {
   "display_name": "Python 3 (ipykernel)",
   "language": "python",
   "name": "python3"
  },
  "language_info": {
   "codemirror_mode": {
    "name": "ipython",
    "version": 3
   },
   "file_extension": ".py",
   "mimetype": "text/x-python",
   "name": "python",
   "nbconvert_exporter": "python",
   "pygments_lexer": "ipython3",
   "version": "3.12.5"
  }
 },
 "nbformat": 4,
 "nbformat_minor": 5
}
