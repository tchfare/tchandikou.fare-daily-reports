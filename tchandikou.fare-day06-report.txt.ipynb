{
 "cells": [
  {
   "cell_type": "markdown",
   "id": "613546c5",
   "metadata": {},
   "source": [
    "# <center> Flow Control </center>"
   ]
  },
  {
   "cell_type": "code",
   "execution_count": 1,
   "id": "4d154c61",
   "metadata": {},
   "outputs": [
    {
     "name": "stdout",
     "output_type": "stream",
     "text": [
      "we have it\n"
     ]
    }
   ],
   "source": [
    "# if clause \n",
    "\n",
    "a = 27\n",
    "#print (a)\n",
    "\n",
    "if a < 120 :\n",
    "\n",
    "    print (\"we have it\")\n",
    "else :\n",
    "    print (\"kk\")"
   ]
  },
  {
   "cell_type": "code",
   "execution_count": 2,
   "id": "e822aaef",
   "metadata": {},
   "outputs": [
    {
     "name": "stdout",
     "output_type": "stream",
     "text": [
      "x is zero\n"
     ]
    }
   ],
   "source": [
    "# if .. elif .. else\n",
    "\n",
    "x = 0\n",
    "if x > 0:\n",
    "    print(\"x is positive\")\n",
    "elif x < 0 :\n",
    "    print(\"x is negative\")\n",
    "else:\n",
    "    print(\"x is zero\")"
   ]
  },
  {
   "cell_type": "markdown",
   "id": "087089e8",
   "metadata": {},
   "source": [
    "## Nested clauses"
   ]
  },
  {
   "cell_type": "code",
   "execution_count": 3,
   "id": "a731cc97",
   "metadata": {},
   "outputs": [
    {
     "name": "stdout",
     "output_type": "stream",
     "text": [
      "a is greater than b\n",
      "the difference is ....\n"
     ]
    }
   ],
   "source": [
    "a = 15\n",
    "b = 10\n",
    "\n",
    "if a > b:\n",
    "    print(\"a is greater than b\")\n",
    "    if (a-b > 5):\n",
    "        print(\"the diff is : \", a - b)\n",
    "    else :\n",
    "        print (\"the difference is ....\")\n",
    "else :\n",
    "    print(\"b is greater than a\")"
   ]
  },
  {
   "cell_type": "code",
   "execution_count": null,
   "id": "e9770ab9",
   "metadata": {},
   "outputs": [],
   "source": [
    "a = float(input(\"Enter the value of a : \"))\n",
    "b = float(input(\"Enter the value of b : \"))\n",
    "c = float(input(\"Enter the value of c : \"))\n",
    "          \n",
    "# let\n",
    "delta = b**2 - 4*a*c     \n",
    "sqr_delta = (b**2 - 4*a*c)**0.5\n",
    "\n",
    "if a != 0 :\n",
    "    if delta > 0 :\n",
    "        print (\"we are in the case of distinct roots\")\n",
    "        x1 = ((-b + sqr_delta)/(2*a))\n",
    "        x2 = ((-b - sqr_delta)/(2*a))\n",
    "        print (\"The distincts roots are :\", x1, \"and\", x2)\n",
    "    \n",
    "    elif delta == 0 :\n",
    "        print ( \"We are in the case of repeated roots\")\n",
    "        X = -b/(2*a)\n",
    "        print (\"we obtain X :\", X)\n",
    "    else : \n",
    "        print(\"No possible real solutions in this case\")\n",
    "else :\n",
    "    print(\"Its not a second order equation\")"
   ]
  },
  {
   "cell_type": "markdown",
   "id": "cbfd6147",
   "metadata": {},
   "source": [
    "## loops"
   ]
  },
  {
   "cell_type": "code",
   "execution_count": 67,
   "id": "909963fc",
   "metadata": {},
   "outputs": [
    {
     "name": "stdout",
     "output_type": "stream",
     "text": [
      "latifa should not drink alcohol, when she is 1 years old\n",
      "latifa should not drink alcohol, when she is 2 years old\n",
      "latifa should not drink alcohol, when she is 3 years old\n",
      "latifa should not drink alcohol, when she is 4 years old\n",
      "latifa should not drink alcohol, when she is 5 years old\n",
      "latifa should not drink alcohol, when she is 6 years old\n",
      "latifa should not drink alcohol, when she is 7 years old\n",
      "latifa should not drink alcohol, when she is 8 years old\n",
      "latifa should not drink alcohol, when she is 9 years old\n",
      "latifa should not drink alcohol, when she is 10 years old\n",
      "latifa should not drink alcohol, when she is 11 years old\n",
      "latifa should not drink alcohol, when she is 12 years old\n",
      "latifa should not drink alcohol, when she is 13 years old\n",
      "latifa should not drink alcohol, when she is 14 years old\n",
      "latifa should not drink alcohol, when she is 15 years old\n",
      "latifa should not drink alcohol, when she is 16 years old\n",
      "latifa should not drink alcohol, when she is 17 years old\n"
     ]
    }
   ],
   "source": [
    "latifa = 1\n",
    "while (latifa < 18):\n",
    "    print(\"latifa should not drink alcohol, when she is\", latifa, \"years old\")\n",
    "    latifa = latifa + 1\n",
    "    "
   ]
  },
  {
   "cell_type": "code",
   "execution_count": 72,
   "id": "9951a142",
   "metadata": {},
   "outputs": [
    {
     "name": "stdout",
     "output_type": "stream",
     "text": [
      "joseph is still young\n",
      "joseph is still young\n",
      "joseph is still young\n",
      "joseph is still young\n",
      "joseph is still young\n",
      "joseph is still young\n",
      "joseph is still young\n",
      "joseph is still young\n",
      "joseph is still young\n",
      "joseph is still young\n",
      "joseph is still young\n",
      "joseph is still young\n",
      "joseph is still young\n",
      "joseph is still young\n",
      "joseph is still young\n",
      "joseph is still young\n",
      "joseph is still young\n",
      "joseph is still young\n"
     ]
    }
   ],
   "source": [
    "joseph = 18\n",
    "for i in range(joseph):\n",
    "    print(\"joseph is still young\")\n",
    "    "
   ]
  },
  {
   "cell_type": "code",
   "execution_count": 71,
   "id": "ec81aad7",
   "metadata": {},
   "outputs": [
    {
     "name": "stdout",
     "output_type": "stream",
     "text": [
      "o\n",
      "u\n",
      "j\n",
      "f\n",
      "i\n",
      "u\n",
      "f\n",
      "e\n",
      "o\n",
      "f\n",
      "j\n",
      "o\n",
      "j\n",
      "o\n",
      "w\n",
      "j\n",
      "o\n",
      "w\n",
      "i\n"
     ]
    }
   ],
   "source": [
    "for char in 'oujfiufeofjojowjowi':\n",
    "    print(char)"
   ]
  },
  {
   "cell_type": "code",
   "execution_count": 110,
   "id": "36cfcf52",
   "metadata": {},
   "outputs": [
    {
     "name": "stdout",
     "output_type": "stream",
     "text": [
      "Try AGAIN\n",
      "I found YOOUUUU\n",
      "Try AGAIN\n",
      "Try AGAIN\n"
     ]
    }
   ],
   "source": [
    "list_fr = [3, 5, 'hello', 98]\n",
    "for i in list_fr:\n",
    "    if i == 5:\n",
    "        print(\"I found YOOUUUU\")\n",
    "    else:\n",
    "        print(\"Try AGAIN\")"
   ]
  },
  {
   "cell_type": "code",
   "execution_count": 7,
   "id": "2c85a77c",
   "metadata": {},
   "outputs": [
    {
     "name": "stdout",
     "output_type": "stream",
     "text": [
      "The letter T is a consonant\n",
      "The letter h is a consonant\n",
      "The letter i is vowel\n",
      "The letter s is a consonant\n",
      "This is likely  space\n",
      "The letter # is a consonant\n",
      "This is likely  space\n",
      "The letter i is vowel\n",
      "The letter s is a consonant\n",
      "This is likely  space\n",
      "The letter , is a consonant\n",
      "This is likely  space\n",
      "The letter t is a consonant\n",
      "The letter h is a consonant\n",
      "The letter e is vowel\n",
      "This is likely  space\n",
      "The letter $ is a consonant\n",
      "This is likely  space\n",
      "The letter s is a consonant\n",
      "The letter e is vowel\n",
      "The letter c is a consonant\n",
      "The letter o is vowel\n",
      "The letter n is a consonant\n",
      "The letter d is a consonant\n",
      "This is likely  space\n",
      "The letter . is a consonant\n",
      "The letter . is a consonant\n",
      "The letter . is a consonant\n",
      "This is likely  space\n",
      "The letter c is a consonant\n",
      "The letter l is a consonant\n",
      "The letter a is vowel\n",
      "The letter s is a consonant\n",
      "The letter s is a consonant\n",
      "This is likely  space\n",
      "The letter i is vowel\n",
      "The letter n is a consonant\n",
      "This is likely  space\n",
      "The letter t is a consonant\n",
      "The letter h is a consonant\n",
      "The letter e is vowel\n",
      "This is likely  space\n",
      "The letter n is a consonant\n",
      "The letter e is vowel\n",
      "The letter w is a consonant\n",
      "This is likely  space\n",
      "The letter A is vowel\n",
      "The letter I is vowel\n",
      "The letter M is a consonant\n",
      "The letter S is a consonant\n",
      "This is likely  space\n",
      "The letter b is a consonant\n",
      "The letter u is vowel\n",
      "The letter i is vowel\n",
      "The letter l is a consonant\n",
      "The letter d is a consonant\n",
      "The letter i is vowel\n",
      "The letter n is a consonant\n",
      "The letter g is a consonant\n"
     ]
    }
   ],
   "source": [
    "sentence = \"This # is , the $ second ... class in the new AIMS building\"\n",
    "for letter in sentence:\n",
    "    if letter in \"AIEOUYaeiou\":\n",
    "        print(\"The letter\", letter, \"is vowel\")\n",
    "    elif letter == \" \":\n",
    "        print(\"This is likely  space\")\n",
    "    else:\n",
    "        print(\"The letter\", letter, \"is a consonant\")\n"
   ]
  },
  {
   "cell_type": "code",
   "execution_count": 8,
   "id": "f22b5735",
   "metadata": {},
   "outputs": [
    {
     "data": {
      "text/plain": [
       "5"
      ]
     },
     "execution_count": 8,
     "metadata": {},
     "output_type": "execute_result"
    }
   ],
   "source": [
    "sentence.find(\"#\")"
   ]
  },
  {
   "cell_type": "code",
   "execution_count": 9,
   "id": "d7be0adb",
   "metadata": {},
   "outputs": [
    {
     "data": {
      "text/plain": [
       "['__add__',\n",
       " '__class__',\n",
       " '__contains__',\n",
       " '__delattr__',\n",
       " '__dir__',\n",
       " '__doc__',\n",
       " '__eq__',\n",
       " '__format__',\n",
       " '__ge__',\n",
       " '__getattribute__',\n",
       " '__getitem__',\n",
       " '__getnewargs__',\n",
       " '__getstate__',\n",
       " '__gt__',\n",
       " '__hash__',\n",
       " '__init__',\n",
       " '__init_subclass__',\n",
       " '__iter__',\n",
       " '__le__',\n",
       " '__len__',\n",
       " '__lt__',\n",
       " '__mod__',\n",
       " '__mul__',\n",
       " '__ne__',\n",
       " '__new__',\n",
       " '__reduce__',\n",
       " '__reduce_ex__',\n",
       " '__repr__',\n",
       " '__rmod__',\n",
       " '__rmul__',\n",
       " '__setattr__',\n",
       " '__sizeof__',\n",
       " '__str__',\n",
       " '__subclasshook__',\n",
       " 'capitalize',\n",
       " 'casefold',\n",
       " 'center',\n",
       " 'count',\n",
       " 'encode',\n",
       " 'endswith',\n",
       " 'expandtabs',\n",
       " 'find',\n",
       " 'format',\n",
       " 'format_map',\n",
       " 'index',\n",
       " 'isalnum',\n",
       " 'isalpha',\n",
       " 'isascii',\n",
       " 'isdecimal',\n",
       " 'isdigit',\n",
       " 'isidentifier',\n",
       " 'islower',\n",
       " 'isnumeric',\n",
       " 'isprintable',\n",
       " 'isspace',\n",
       " 'istitle',\n",
       " 'isupper',\n",
       " 'join',\n",
       " 'ljust',\n",
       " 'lower',\n",
       " 'lstrip',\n",
       " 'maketrans',\n",
       " 'partition',\n",
       " 'removeprefix',\n",
       " 'removesuffix',\n",
       " 'replace',\n",
       " 'rfind',\n",
       " 'rindex',\n",
       " 'rjust',\n",
       " 'rpartition',\n",
       " 'rsplit',\n",
       " 'rstrip',\n",
       " 'split',\n",
       " 'splitlines',\n",
       " 'startswith',\n",
       " 'strip',\n",
       " 'swapcase',\n",
       " 'title',\n",
       " 'translate',\n",
       " 'upper',\n",
       " 'zfill']"
      ]
     },
     "execution_count": 9,
     "metadata": {},
     "output_type": "execute_result"
    }
   ],
   "source": [
    "dir(sentence)"
   ]
  },
  {
   "cell_type": "code",
   "execution_count": null,
   "id": "3966a16c",
   "metadata": {},
   "outputs": [],
   "source": []
  }
 ],
 "metadata": {
  "kernelspec": {
   "display_name": "Python 3 (ipykernel)",
   "language": "python",
   "name": "python3"
  },
  "language_info": {
   "codemirror_mode": {
    "name": "ipython",
    "version": 3
   },
   "file_extension": ".py",
   "mimetype": "text/x-python",
   "name": "python",
   "nbconvert_exporter": "python",
   "pygments_lexer": "ipython3",
   "version": "3.12.3"
  }
 },
 "nbformat": 4,
 "nbformat_minor": 5
}
